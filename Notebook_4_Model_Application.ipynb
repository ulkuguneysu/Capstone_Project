{
  "nbformat": 4,
  "nbformat_minor": 0,
  "metadata": {
    "colab": {
      "name": "Notebook_4_Model_Application.ipynb",
      "provenance": [],
      "collapsed_sections": [],
      "toc_visible": true
    },
    "kernelspec": {
      "display_name": "Python 3",
      "language": "python",
      "name": "python3"
    },
    "language_info": {
      "codemirror_mode": {
        "name": "ipython",
        "version": 3
      },
      "file_extension": ".py",
      "mimetype": "text/x-python",
      "name": "python",
      "nbconvert_exporter": "python",
      "pygments_lexer": "ipython3",
      "version": "3.8.3"
    }
  },
  "cells": [
    {
      "cell_type": "markdown",
      "metadata": {
        "id": "flC8CB8a-n-T"
      },
      "source": [
        "# MODEL APPLICATION"
      ]
    },
    {
      "cell_type": "markdown",
      "metadata": {
        "id": "Zmme4fUm06wK"
      },
      "source": [
        "## Objectives\n",
        "\n",
        "*   Create Extra Trees Regression model created inthe previous notebook.\n",
        "\n",
        "*   Test the model on Building IS: *4620142679775*\n",
        "\n",
        "*   Test the model on Building ID: *6492*\n",
        "\n",
        "*   Test the model on the entire dataset.\n",
        "\n",
        "*   Create a new regression model with the entire dataset."
      ]
    },
    {
      "cell_type": "markdown",
      "metadata": {
        "id": "eXvR8x2U066w"
      },
      "source": [
        "# IMPORT DATA"
      ]
    },
    {
      "cell_type": "code",
      "metadata": {
        "id": "Gf_gFLwv-rhO"
      },
      "source": [
        "import pandas as pd\n",
        "import numpy as np\n",
        "import matplotlib\n",
        "import matplotlib as mpl\n",
        "import matplotlib.pyplot as plt\n",
        "%matplotlib inline\n",
        "import seaborn as sns\n",
        "\n",
        "sns.set_style('darkgrid') \n",
        "font = {'weight' : 'bold', 'size' : 23}\n",
        "matplotlib.rc('font', **font)\n",
        "plt.style.use('seaborn')\n",
        "\n",
        "pd.set_option('display.max_columns',0)\n",
        "\n",
        "from sklearn.metrics import mean_squared_error\n",
        "\n",
        "from sklearn.preprocessing import StandardScaler\n",
        "\n",
        "from sklearn.model_selection import GridSearchCV\n",
        "from sklearn.model_selection import train_test_split\n",
        "\n",
        "from sklearn.pipeline import Pipeline\n",
        "\n",
        "from sklearn.ensemble import ExtraTreesRegressor\n",
        "\n",
        "\n",
        "import warnings\n",
        "warnings.filterwarnings('ignore')\n"
      ],
      "execution_count": 8,
      "outputs": []
    },
    {
      "cell_type": "code",
      "metadata": {
        "colab": {
          "base_uri": "https://localhost:8080/",
          "height": 235
        },
        "id": "aEvnWrqG_bj8",
        "outputId": "e00f3496-cbc2-4d51-b06d-378ab7bfd61f"
      },
      "source": [
        "df = pd.read_csv('/content/thermostat_single_building_data.csv').drop(['Unnamed: 0', 'temp_diff'], axis=1)\n",
        "df['ts'] = pd.to_datetime(df['ts'])\n",
        "ts = df.set_index('ts')\n",
        "ts.index = pd.to_datetime(ts.index, unit='s')\n",
        "ts.head()"
      ],
      "execution_count": 9,
      "outputs": [
        {
          "output_type": "execute_result",
          "data": {
            "text/html": [
              "<div>\n",
              "<style scoped>\n",
              "    .dataframe tbody tr th:only-of-type {\n",
              "        vertical-align: middle;\n",
              "    }\n",
              "\n",
              "    .dataframe tbody tr th {\n",
              "        vertical-align: top;\n",
              "    }\n",
              "\n",
              "    .dataframe thead th {\n",
              "        text-align: right;\n",
              "    }\n",
              "</style>\n",
              "<table border=\"1\" class=\"dataframe\">\n",
              "  <thead>\n",
              "    <tr style=\"text-align: right;\">\n",
              "      <th></th>\n",
              "      <th>outdoor_temp</th>\n",
              "      <th>boiler_on</th>\n",
              "      <th>indoor_temp</th>\n",
              "    </tr>\n",
              "    <tr>\n",
              "      <th>ts</th>\n",
              "      <th></th>\n",
              "      <th></th>\n",
              "      <th></th>\n",
              "    </tr>\n",
              "  </thead>\n",
              "  <tbody>\n",
              "    <tr>\n",
              "      <th>2020-11-17 20:24:00</th>\n",
              "      <td>51.998</td>\n",
              "      <td>1.0</td>\n",
              "      <td>73.7375</td>\n",
              "    </tr>\n",
              "    <tr>\n",
              "      <th>2020-11-17 20:25:00</th>\n",
              "      <td>51.895</td>\n",
              "      <td>1.0</td>\n",
              "      <td>73.7375</td>\n",
              "    </tr>\n",
              "    <tr>\n",
              "      <th>2020-11-17 20:26:00</th>\n",
              "      <td>51.792</td>\n",
              "      <td>1.0</td>\n",
              "      <td>73.7375</td>\n",
              "    </tr>\n",
              "    <tr>\n",
              "      <th>2020-11-17 20:27:00</th>\n",
              "      <td>51.331</td>\n",
              "      <td>1.0</td>\n",
              "      <td>73.7375</td>\n",
              "    </tr>\n",
              "    <tr>\n",
              "      <th>2020-11-17 20:28:00</th>\n",
              "      <td>51.343</td>\n",
              "      <td>1.0</td>\n",
              "      <td>73.7375</td>\n",
              "    </tr>\n",
              "  </tbody>\n",
              "</table>\n",
              "</div>"
            ],
            "text/plain": [
              "                     outdoor_temp  boiler_on  indoor_temp\n",
              "ts                                                       \n",
              "2020-11-17 20:24:00        51.998        1.0      73.7375\n",
              "2020-11-17 20:25:00        51.895        1.0      73.7375\n",
              "2020-11-17 20:26:00        51.792        1.0      73.7375\n",
              "2020-11-17 20:27:00        51.331        1.0      73.7375\n",
              "2020-11-17 20:28:00        51.343        1.0      73.7375"
            ]
          },
          "metadata": {
            "tags": []
          },
          "execution_count": 9
        }
      ]
    },
    {
      "cell_type": "markdown",
      "metadata": {
        "id": "kv2v_OR--4Cu"
      },
      "source": [
        "# BASE MODEL"
      ]
    },
    {
      "cell_type": "markdown",
      "metadata": {
        "id": "orFBH8WM1-DB"
      },
      "source": [
        "## Functions"
      ]
    },
    {
      "cell_type": "code",
      "metadata": {
        "id": "Ryw2VCWg2A2T"
      },
      "source": [
        "def plot_feature_importances(model, X):\n",
        "    \n",
        "    \"\"\"\n",
        "    Function to plot regression model's feature importances.\n",
        "    This model must be fitted to the X and y.\n",
        "\n",
        "    ----------\n",
        "    \n",
        "    Args:\n",
        "        model: The regression model fitted to the data.\n",
        "        X: Model predictors.\n",
        "    \n",
        "    Returns:\n",
        "        A vertical bar plot with the predictors in the model\n",
        "        and their feature importance value calculated by\n",
        "        ensemble methods .feature_importance method.\n",
        "    \n",
        "    \"\"\"\n",
        "    \n",
        "    n_features = X.shape[1]\n",
        "    plt.figure(figsize=(8,8))\n",
        "    plt.barh(range(n_features), model.feature_importances_, align='center') \n",
        "    plt.yticks(np.arange(n_features), X.columns.values, fontsize=13) \n",
        "    plt.xlabel('Feature importance', fontsize=16)\n",
        "    plt.ylabel('Features', fontsize=16)\n",
        "    plt.title('Feature Importance Plot', fontsize=20)"
      ],
      "execution_count": 10,
      "outputs": []
    },
    {
      "cell_type": "code",
      "metadata": {
        "id": "kEwa26ql2BN4"
      },
      "source": [
        "def feature_importance_df(model, X):\n",
        "    \"\"\"\n",
        "    Function to create a pandas feature importance dataframe and plot a bar graph.\n",
        "\n",
        "    -----------\n",
        "\n",
        "    Args:\n",
        "      model: Pipeline model name.\n",
        "      X: Predictor dataframe. It is used for predictor column names in the model.\n",
        "    Returns:\n",
        "      Descending feature importance dataframe as features are indices.\n",
        "      Feature importances bar plot.\n",
        "\n",
        "    \"\"\"\n",
        "    coefs = pd.DataFrame(\n",
        "               model.named_steps['m'].feature_importances_,\n",
        "               columns=['Feature_Importances'], index=X.columns\n",
        "               )\n",
        "    coefs['Feature_Importances'] = round(coefs['Feature_Importances'],5)\n",
        "    coefs = coefs.sort_values(by='Feature_Importances', ascending=False)\n",
        "\n",
        "    fig = plt.figure(figsize=(18,8))\n",
        "    ax1 = fig.add_subplot(121)\n",
        "    ax1.barh(y=coefs.index, width=coefs['Feature_Importances'])\n",
        "    ax1.set_title('Feature Importances', fontsize=14)\n",
        "\n",
        "    ax2 = fig.add_subplot(122)\n",
        "    font_size=12\n",
        "    bbox=[0, 0, 1, 1]\n",
        "    ax2.axis('off')\n",
        "    mpl_table = ax2.table(cellText = coefs.values, rowLabels = coefs.index, bbox=bbox, colLabels=coefs.columns)\n",
        "    mpl_table.auto_set_font_size(False)\n",
        "    mpl_table.set_fontsize(font_size)\n",
        "    plt.tight_layout()"
      ],
      "execution_count": 11,
      "outputs": []
    },
    {
      "cell_type": "code",
      "metadata": {
        "id": "dBy8enYn2BXr"
      },
      "source": [
        "def regression_modeling(regressor, scaler, name):\n",
        "\n",
        "    \"\"\"\n",
        "    Function to apply a regression model with a pipeline.\n",
        "     \n",
        "      - Pipeline is created with the regressor and scaler.\n",
        "      - Pipeline is fit to X_train and y_train.\n",
        "      - Prediction is created for X_test.\n",
        "\n",
        "    ----------\n",
        "\n",
        "    Args:\n",
        "      regressor : Initiated regression method.\n",
        "      scaler    : Initiated standardization method.\n",
        "      name      : Name of the regression model.\n",
        "\n",
        "    Returns:\n",
        "      - Print train and test scores.\n",
        "      - Print mean squared error value.\n",
        "      - Returns feature_importance_df function refults.\n",
        "          * A feature importance dataframe and a bar plot.    \n",
        "    \"\"\"\n",
        "    \n",
        "    pipeline = Pipeline([('ss', scaler),\n",
        "                         ('m', regressor)])\n",
        "    \n",
        "    pipeline.fit(X_train, y_train)\n",
        "\n",
        "    y_pred = pipeline.predict(X_test)\n",
        "\n",
        "    print('Train Score : ', round(pipeline.score(X_train, y_train),5))\n",
        "    print('Test Score  : ', round(pipeline.score(X_test, y_test),5), '\\n')\n",
        "\n",
        "    mse = round(mean_squared_error(y_test, y_pred),5)\n",
        "    print(name+' Mean Squared Error : ', mse)\n",
        "    print('\\n\\n')\n",
        "\n",
        "    feature_importance_df(pipeline, X_train)"
      ],
      "execution_count": 12,
      "outputs": []
    },
    {
      "cell_type": "markdown",
      "metadata": {
        "id": "A19yKSyv_xvh"
      },
      "source": [
        "## Predictor and Target Variables"
      ]
    },
    {
      "cell_type": "code",
      "metadata": {
        "colab": {
          "base_uri": "https://localhost:8080/",
          "height": 750
        },
        "id": "XNbue7hH_LrS",
        "outputId": "28e34374-6813-44ca-9d8c-5778ee0fd2f4"
      },
      "source": [
        "ts_multi = ts.copy()\n",
        "\n",
        "for col in ts_multi.columns:\n",
        "    for i in range(1,5):\n",
        "        ts_multi[col+str(i)+'_min_ago'] = ts_multi[col].shift(i)\n",
        "\n",
        "ts_multi.dropna(inplace=True)\n",
        "ts_multi.head(10)"
      ],
      "execution_count": 13,
      "outputs": [
        {
          "output_type": "execute_result",
          "data": {
            "text/html": [
              "<div>\n",
              "<style scoped>\n",
              "    .dataframe tbody tr th:only-of-type {\n",
              "        vertical-align: middle;\n",
              "    }\n",
              "\n",
              "    .dataframe tbody tr th {\n",
              "        vertical-align: top;\n",
              "    }\n",
              "\n",
              "    .dataframe thead th {\n",
              "        text-align: right;\n",
              "    }\n",
              "</style>\n",
              "<table border=\"1\" class=\"dataframe\">\n",
              "  <thead>\n",
              "    <tr style=\"text-align: right;\">\n",
              "      <th></th>\n",
              "      <th>outdoor_temp</th>\n",
              "      <th>boiler_on</th>\n",
              "      <th>indoor_temp</th>\n",
              "      <th>outdoor_temp1_min_ago</th>\n",
              "      <th>outdoor_temp2_min_ago</th>\n",
              "      <th>outdoor_temp3_min_ago</th>\n",
              "      <th>outdoor_temp4_min_ago</th>\n",
              "      <th>boiler_on1_min_ago</th>\n",
              "      <th>boiler_on2_min_ago</th>\n",
              "      <th>boiler_on3_min_ago</th>\n",
              "      <th>boiler_on4_min_ago</th>\n",
              "      <th>indoor_temp1_min_ago</th>\n",
              "      <th>indoor_temp2_min_ago</th>\n",
              "      <th>indoor_temp3_min_ago</th>\n",
              "      <th>indoor_temp4_min_ago</th>\n",
              "    </tr>\n",
              "    <tr>\n",
              "      <th>ts</th>\n",
              "      <th></th>\n",
              "      <th></th>\n",
              "      <th></th>\n",
              "      <th></th>\n",
              "      <th></th>\n",
              "      <th></th>\n",
              "      <th></th>\n",
              "      <th></th>\n",
              "      <th></th>\n",
              "      <th></th>\n",
              "      <th></th>\n",
              "      <th></th>\n",
              "      <th></th>\n",
              "      <th></th>\n",
              "      <th></th>\n",
              "    </tr>\n",
              "  </thead>\n",
              "  <tbody>\n",
              "    <tr>\n",
              "      <th>2020-11-17 20:28:00</th>\n",
              "      <td>51.343</td>\n",
              "      <td>1.0</td>\n",
              "      <td>73.7375</td>\n",
              "      <td>51.331</td>\n",
              "      <td>51.792</td>\n",
              "      <td>51.895</td>\n",
              "      <td>51.998</td>\n",
              "      <td>1.0</td>\n",
              "      <td>1.0</td>\n",
              "      <td>1.0</td>\n",
              "      <td>1.0</td>\n",
              "      <td>73.7375</td>\n",
              "      <td>73.7375</td>\n",
              "      <td>73.7375</td>\n",
              "      <td>73.7375</td>\n",
              "    </tr>\n",
              "    <tr>\n",
              "      <th>2020-11-17 20:29:00</th>\n",
              "      <td>51.100</td>\n",
              "      <td>1.0</td>\n",
              "      <td>73.7375</td>\n",
              "      <td>51.343</td>\n",
              "      <td>51.331</td>\n",
              "      <td>51.792</td>\n",
              "      <td>51.895</td>\n",
              "      <td>1.0</td>\n",
              "      <td>1.0</td>\n",
              "      <td>1.0</td>\n",
              "      <td>1.0</td>\n",
              "      <td>73.7375</td>\n",
              "      <td>73.7375</td>\n",
              "      <td>73.7375</td>\n",
              "      <td>73.7375</td>\n",
              "    </tr>\n",
              "    <tr>\n",
              "      <th>2020-11-17 20:30:00</th>\n",
              "      <td>50.973</td>\n",
              "      <td>1.0</td>\n",
              "      <td>73.7375</td>\n",
              "      <td>51.100</td>\n",
              "      <td>51.343</td>\n",
              "      <td>51.331</td>\n",
              "      <td>51.792</td>\n",
              "      <td>1.0</td>\n",
              "      <td>1.0</td>\n",
              "      <td>1.0</td>\n",
              "      <td>1.0</td>\n",
              "      <td>73.7375</td>\n",
              "      <td>73.7375</td>\n",
              "      <td>73.7375</td>\n",
              "      <td>73.7375</td>\n",
              "    </tr>\n",
              "    <tr>\n",
              "      <th>2020-11-17 20:31:00</th>\n",
              "      <td>50.131</td>\n",
              "      <td>1.0</td>\n",
              "      <td>73.7375</td>\n",
              "      <td>50.973</td>\n",
              "      <td>51.100</td>\n",
              "      <td>51.343</td>\n",
              "      <td>51.331</td>\n",
              "      <td>1.0</td>\n",
              "      <td>1.0</td>\n",
              "      <td>1.0</td>\n",
              "      <td>1.0</td>\n",
              "      <td>73.7375</td>\n",
              "      <td>73.7375</td>\n",
              "      <td>73.7375</td>\n",
              "      <td>73.7375</td>\n",
              "    </tr>\n",
              "    <tr>\n",
              "      <th>2020-11-17 20:32:00</th>\n",
              "      <td>49.825</td>\n",
              "      <td>1.0</td>\n",
              "      <td>73.7375</td>\n",
              "      <td>50.131</td>\n",
              "      <td>50.973</td>\n",
              "      <td>51.100</td>\n",
              "      <td>51.343</td>\n",
              "      <td>1.0</td>\n",
              "      <td>1.0</td>\n",
              "      <td>1.0</td>\n",
              "      <td>1.0</td>\n",
              "      <td>73.7375</td>\n",
              "      <td>73.7375</td>\n",
              "      <td>73.7375</td>\n",
              "      <td>73.7375</td>\n",
              "    </tr>\n",
              "    <tr>\n",
              "      <th>2020-11-17 20:33:00</th>\n",
              "      <td>50.060</td>\n",
              "      <td>1.0</td>\n",
              "      <td>73.5685</td>\n",
              "      <td>49.825</td>\n",
              "      <td>50.131</td>\n",
              "      <td>50.973</td>\n",
              "      <td>51.100</td>\n",
              "      <td>1.0</td>\n",
              "      <td>1.0</td>\n",
              "      <td>1.0</td>\n",
              "      <td>1.0</td>\n",
              "      <td>73.7375</td>\n",
              "      <td>73.7375</td>\n",
              "      <td>73.7375</td>\n",
              "      <td>73.7375</td>\n",
              "    </tr>\n",
              "    <tr>\n",
              "      <th>2020-11-17 20:34:00</th>\n",
              "      <td>49.813</td>\n",
              "      <td>1.0</td>\n",
              "      <td>73.5685</td>\n",
              "      <td>50.060</td>\n",
              "      <td>49.825</td>\n",
              "      <td>50.131</td>\n",
              "      <td>50.973</td>\n",
              "      <td>1.0</td>\n",
              "      <td>1.0</td>\n",
              "      <td>1.0</td>\n",
              "      <td>1.0</td>\n",
              "      <td>73.5685</td>\n",
              "      <td>73.7375</td>\n",
              "      <td>73.7375</td>\n",
              "      <td>73.7375</td>\n",
              "    </tr>\n",
              "    <tr>\n",
              "      <th>2020-11-17 20:35:00</th>\n",
              "      <td>50.612</td>\n",
              "      <td>1.0</td>\n",
              "      <td>73.5685</td>\n",
              "      <td>49.813</td>\n",
              "      <td>50.060</td>\n",
              "      <td>49.825</td>\n",
              "      <td>50.131</td>\n",
              "      <td>1.0</td>\n",
              "      <td>1.0</td>\n",
              "      <td>1.0</td>\n",
              "      <td>1.0</td>\n",
              "      <td>73.5685</td>\n",
              "      <td>73.5685</td>\n",
              "      <td>73.7375</td>\n",
              "      <td>73.7375</td>\n",
              "    </tr>\n",
              "    <tr>\n",
              "      <th>2020-11-17 20:36:00</th>\n",
              "      <td>50.717</td>\n",
              "      <td>1.0</td>\n",
              "      <td>73.5685</td>\n",
              "      <td>50.612</td>\n",
              "      <td>49.813</td>\n",
              "      <td>50.060</td>\n",
              "      <td>49.825</td>\n",
              "      <td>1.0</td>\n",
              "      <td>1.0</td>\n",
              "      <td>1.0</td>\n",
              "      <td>1.0</td>\n",
              "      <td>73.5685</td>\n",
              "      <td>73.5685</td>\n",
              "      <td>73.5685</td>\n",
              "      <td>73.7375</td>\n",
              "    </tr>\n",
              "    <tr>\n",
              "      <th>2020-11-17 20:37:00</th>\n",
              "      <td>50.810</td>\n",
              "      <td>1.0</td>\n",
              "      <td>73.5685</td>\n",
              "      <td>50.717</td>\n",
              "      <td>50.612</td>\n",
              "      <td>49.813</td>\n",
              "      <td>50.060</td>\n",
              "      <td>1.0</td>\n",
              "      <td>1.0</td>\n",
              "      <td>1.0</td>\n",
              "      <td>1.0</td>\n",
              "      <td>73.5685</td>\n",
              "      <td>73.5685</td>\n",
              "      <td>73.5685</td>\n",
              "      <td>73.5685</td>\n",
              "    </tr>\n",
              "  </tbody>\n",
              "</table>\n",
              "</div>"
            ],
            "text/plain": [
              "                     outdoor_temp  ...  indoor_temp4_min_ago\n",
              "ts                                 ...                      \n",
              "2020-11-17 20:28:00        51.343  ...               73.7375\n",
              "2020-11-17 20:29:00        51.100  ...               73.7375\n",
              "2020-11-17 20:30:00        50.973  ...               73.7375\n",
              "2020-11-17 20:31:00        50.131  ...               73.7375\n",
              "2020-11-17 20:32:00        49.825  ...               73.7375\n",
              "2020-11-17 20:33:00        50.060  ...               73.7375\n",
              "2020-11-17 20:34:00        49.813  ...               73.7375\n",
              "2020-11-17 20:35:00        50.612  ...               73.7375\n",
              "2020-11-17 20:36:00        50.717  ...               73.7375\n",
              "2020-11-17 20:37:00        50.810  ...               73.5685\n",
              "\n",
              "[10 rows x 15 columns]"
            ]
          },
          "metadata": {
            "tags": []
          },
          "execution_count": 13
        }
      ]
    },
    {
      "cell_type": "code",
      "metadata": {
        "colab": {
          "base_uri": "https://localhost:8080/",
          "height": 390
        },
        "id": "1WKPGpPc_-N_",
        "outputId": "66a8d3ef-541c-4ea9-be12-5ceb607910d3"
      },
      "source": [
        "#Create target column to compare predictions\n",
        "target = ts_multi[['indoor_temp']].shift(periods=-5)\n",
        "target.dropna(inplace=True)\n",
        "target.head(10)"
      ],
      "execution_count": 14,
      "outputs": [
        {
          "output_type": "execute_result",
          "data": {
            "text/html": [
              "<div>\n",
              "<style scoped>\n",
              "    .dataframe tbody tr th:only-of-type {\n",
              "        vertical-align: middle;\n",
              "    }\n",
              "\n",
              "    .dataframe tbody tr th {\n",
              "        vertical-align: top;\n",
              "    }\n",
              "\n",
              "    .dataframe thead th {\n",
              "        text-align: right;\n",
              "    }\n",
              "</style>\n",
              "<table border=\"1\" class=\"dataframe\">\n",
              "  <thead>\n",
              "    <tr style=\"text-align: right;\">\n",
              "      <th></th>\n",
              "      <th>indoor_temp</th>\n",
              "    </tr>\n",
              "    <tr>\n",
              "      <th>ts</th>\n",
              "      <th></th>\n",
              "    </tr>\n",
              "  </thead>\n",
              "  <tbody>\n",
              "    <tr>\n",
              "      <th>2020-11-17 20:28:00</th>\n",
              "      <td>73.5685</td>\n",
              "    </tr>\n",
              "    <tr>\n",
              "      <th>2020-11-17 20:29:00</th>\n",
              "      <td>73.5685</td>\n",
              "    </tr>\n",
              "    <tr>\n",
              "      <th>2020-11-17 20:30:00</th>\n",
              "      <td>73.5685</td>\n",
              "    </tr>\n",
              "    <tr>\n",
              "      <th>2020-11-17 20:31:00</th>\n",
              "      <td>73.5685</td>\n",
              "    </tr>\n",
              "    <tr>\n",
              "      <th>2020-11-17 20:32:00</th>\n",
              "      <td>73.5685</td>\n",
              "    </tr>\n",
              "    <tr>\n",
              "      <th>2020-11-17 20:33:00</th>\n",
              "      <td>73.5685</td>\n",
              "    </tr>\n",
              "    <tr>\n",
              "      <th>2020-11-17 20:34:00</th>\n",
              "      <td>73.8495</td>\n",
              "    </tr>\n",
              "    <tr>\n",
              "      <th>2020-11-17 20:35:00</th>\n",
              "      <td>73.8495</td>\n",
              "    </tr>\n",
              "    <tr>\n",
              "      <th>2020-11-17 20:36:00</th>\n",
              "      <td>73.8495</td>\n",
              "    </tr>\n",
              "    <tr>\n",
              "      <th>2020-11-17 20:37:00</th>\n",
              "      <td>73.9060</td>\n",
              "    </tr>\n",
              "  </tbody>\n",
              "</table>\n",
              "</div>"
            ],
            "text/plain": [
              "                     indoor_temp\n",
              "ts                              \n",
              "2020-11-17 20:28:00      73.5685\n",
              "2020-11-17 20:29:00      73.5685\n",
              "2020-11-17 20:30:00      73.5685\n",
              "2020-11-17 20:31:00      73.5685\n",
              "2020-11-17 20:32:00      73.5685\n",
              "2020-11-17 20:33:00      73.5685\n",
              "2020-11-17 20:34:00      73.8495\n",
              "2020-11-17 20:35:00      73.8495\n",
              "2020-11-17 20:36:00      73.8495\n",
              "2020-11-17 20:37:00      73.9060"
            ]
          },
          "metadata": {
            "tags": []
          },
          "execution_count": 14
        }
      ]
    },
    {
      "cell_type": "code",
      "metadata": {
        "colab": {
          "base_uri": "https://localhost:8080/"
        },
        "id": "yiCOJqSp__Yq",
        "outputId": "5342985c-755a-45a8-e4eb-2b8b7edd1636"
      },
      "source": [
        "print(len(ts_multi), len(target))\n",
        "ts_multi = ts_multi[:len(target)]\n",
        "print(len(ts_multi), len(target))"
      ],
      "execution_count": 15,
      "outputs": [
        {
          "output_type": "stream",
          "text": [
            "41894 41889\n",
            "41889 41889\n"
          ],
          "name": "stdout"
        }
      ]
    },
    {
      "cell_type": "code",
      "metadata": {
        "id": "fyqAc9xRAC9S"
      },
      "source": [
        "X = ts_multi.copy()\n",
        "y = target.copy()"
      ],
      "execution_count": 35,
      "outputs": []
    },
    {
      "cell_type": "markdown",
      "metadata": {
        "id": "LyICIy0GAjVT"
      },
      "source": [
        "## ExtraTreesRegressor Model"
      ]
    },
    {
      "cell_type": "code",
      "metadata": {
        "id": "aIW6emTlAjwE"
      },
      "source": [
        "X_train, X_test, y_train, y_test = train_test_split(X,y, test_size=0.25, random_state=123)"
      ],
      "execution_count": 36,
      "outputs": []
    },
    {
      "cell_type": "code",
      "metadata": {
        "colab": {
          "base_uri": "https://localhost:8080/"
        },
        "id": "P3B78o8xAKBq",
        "outputId": "0e82a253-04ef-4268-84a0-39243ce1eb1e"
      },
      "source": [
        "ets_reg = ExtraTreesRegressor(criterion='mse',\n",
        "                              random_state=123)\n",
        "scaler = StandardScaler()\n",
        "\n",
        "pipeline_ets = Pipeline([('ss', scaler),\n",
        "                         ('m', ets_reg)])\n",
        "\n",
        "pipeline_ets.fit(X_train, y_train)"
      ],
      "execution_count": 37,
      "outputs": [
        {
          "output_type": "execute_result",
          "data": {
            "text/plain": [
              "Pipeline(memory=None,\n",
              "         steps=[('ss',\n",
              "                 StandardScaler(copy=True, with_mean=True, with_std=True)),\n",
              "                ('m',\n",
              "                 ExtraTreesRegressor(bootstrap=False, ccp_alpha=0.0,\n",
              "                                     criterion='mse', max_depth=None,\n",
              "                                     max_features='auto', max_leaf_nodes=None,\n",
              "                                     max_samples=None,\n",
              "                                     min_impurity_decrease=0.0,\n",
              "                                     min_impurity_split=None,\n",
              "                                     min_samples_leaf=1, min_samples_split=2,\n",
              "                                     min_weight_fraction_leaf=0.0,\n",
              "                                     n_estimators=100, n_jobs=None,\n",
              "                                     oob_score=False, random_state=123,\n",
              "                                     verbose=0, warm_start=False))],\n",
              "         verbose=False)"
            ]
          },
          "metadata": {
            "tags": []
          },
          "execution_count": 37
        }
      ]
    },
    {
      "cell_type": "code",
      "metadata": {
        "colab": {
          "base_uri": "https://localhost:8080/"
        },
        "id": "L3xbDz9dAov7",
        "outputId": "cabe8663-e9f6-40a5-a9b5-2a33766d499a"
      },
      "source": [
        "y_pred = pipeline_ets.predict(X_test)\n",
        "mse = round(mean_squared_error(y_test, y_pred),5)\n",
        "\n",
        "print('Mean Squared Error of 38 Building: ', mse)"
      ],
      "execution_count": 43,
      "outputs": [
        {
          "output_type": "stream",
          "text": [
            "Mean Squared Error of 38 Building:  0.03094\n"
          ],
          "name": "stdout"
        }
      ]
    },
    {
      "cell_type": "code",
      "metadata": {
        "colab": {
          "base_uri": "https://localhost:8080/",
          "height": 557
        },
        "id": "ni_CktxABSlA",
        "outputId": "71f2bb49-9e20-4a2d-ccb6-7dd836c2c88a"
      },
      "source": [
        "feature_importance_df(pipeline_ets, X_train)"
      ],
      "execution_count": 38,
      "outputs": [
        {
          "output_type": "display_data",
          "data": {
            "image/png": "[encoded data removed]",
            "text/plain": [
              "<Figure size 1296x576 with 2 Axes>"
            ]
          },
          "metadata": {
            "tags": []
          }
        }
      ]
    },
    {
      "cell_type": "markdown",
      "metadata": {
        "id": "iYcp68faA3gd"
      },
      "source": [
        "# TESTING THE MODEL"
      ]
    },
    {
      "cell_type": "markdown",
      "metadata": {
        "id": "gv89y3XsA_O8"
      },
      "source": [
        "We create subsets for different buildings and apply our model to our newly created data. This serves to see if our model is generally applicable to the buildings in the New York State area. For modeling, we use the model with the least Mean Squared Error value, Extra Trees Regressor. "
      ]
    },
    {
      "cell_type": "code",
      "metadata": {
        "colab": {
          "base_uri": "https://localhost:8080/",
          "height": 204
        },
        "id": "pMJdgOexAKYy",
        "outputId": "2e89f979-8c2c-42d4-b79f-e19566e32579"
      },
      "source": [
        "thermostat_df = pd.read_csv('/content/thermostat_modeling_data.csv').drop(['Unnamed: 0', 'temp_diff'], axis=1)\n",
        "thermostat_df.head()"
      ],
      "execution_count": 23,
      "outputs": [
        {
          "output_type": "execute_result",
          "data": {
            "text/html": [
              "<div>\n",
              "<style scoped>\n",
              "    .dataframe tbody tr th:only-of-type {\n",
              "        vertical-align: middle;\n",
              "    }\n",
              "\n",
              "    .dataframe tbody tr th {\n",
              "        vertical-align: top;\n",
              "    }\n",
              "\n",
              "    .dataframe thead th {\n",
              "        text-align: right;\n",
              "    }\n",
              "</style>\n",
              "<table border=\"1\" class=\"dataframe\">\n",
              "  <thead>\n",
              "    <tr style=\"text-align: right;\">\n",
              "      <th></th>\n",
              "      <th>building_id</th>\n",
              "      <th>ts</th>\n",
              "      <th>outdoor_temp</th>\n",
              "      <th>boiler_on</th>\n",
              "      <th>indoor_temp</th>\n",
              "    </tr>\n",
              "  </thead>\n",
              "  <tbody>\n",
              "    <tr>\n",
              "      <th>0</th>\n",
              "      <td>6294</td>\n",
              "      <td>2020-11-17 20:24:00</td>\n",
              "      <td>46.748</td>\n",
              "      <td>0.0</td>\n",
              "      <td>76.6015</td>\n",
              "    </tr>\n",
              "    <tr>\n",
              "      <th>1</th>\n",
              "      <td>6294</td>\n",
              "      <td>2020-11-17 20:25:00</td>\n",
              "      <td>46.798</td>\n",
              "      <td>0.0</td>\n",
              "      <td>76.6015</td>\n",
              "    </tr>\n",
              "    <tr>\n",
              "      <th>2</th>\n",
              "      <td>6294</td>\n",
              "      <td>2020-11-17 20:26:00</td>\n",
              "      <td>46.810</td>\n",
              "      <td>0.0</td>\n",
              "      <td>76.6015</td>\n",
              "    </tr>\n",
              "    <tr>\n",
              "      <th>3</th>\n",
              "      <td>6294</td>\n",
              "      <td>2020-11-17 20:27:00</td>\n",
              "      <td>46.636</td>\n",
              "      <td>0.0</td>\n",
              "      <td>76.6015</td>\n",
              "    </tr>\n",
              "    <tr>\n",
              "      <th>4</th>\n",
              "      <td>6294</td>\n",
              "      <td>2020-11-17 20:28:00</td>\n",
              "      <td>46.224</td>\n",
              "      <td>0.0</td>\n",
              "      <td>76.6015</td>\n",
              "    </tr>\n",
              "  </tbody>\n",
              "</table>\n",
              "</div>"
            ],
            "text/plain": [
              "   building_id                   ts  outdoor_temp  boiler_on  indoor_temp\n",
              "0         6294  2020-11-17 20:24:00        46.748        0.0      76.6015\n",
              "1         6294  2020-11-17 20:25:00        46.798        0.0      76.6015\n",
              "2         6294  2020-11-17 20:26:00        46.810        0.0      76.6015\n",
              "3         6294  2020-11-17 20:27:00        46.636        0.0      76.6015\n",
              "4         6294  2020-11-17 20:28:00        46.224        0.0      76.6015"
            ]
          },
          "metadata": {
            "tags": []
          },
          "execution_count": 23
        }
      ]
    },
    {
      "cell_type": "code",
      "metadata": {
        "colab": {
          "base_uri": "https://localhost:8080/"
        },
        "id": "ICDbM3aYBCdC",
        "outputId": "0fa4bba5-a5d4-448e-fff9-5b58f69441b9"
      },
      "source": [
        "thermostat_df['building_id'].nunique()"
      ],
      "execution_count": 24,
      "outputs": [
        {
          "output_type": "execute_result",
          "data": {
            "text/plain": [
              "78"
            ]
          },
          "metadata": {
            "tags": []
          },
          "execution_count": 24
        }
      ]
    },
    {
      "cell_type": "code",
      "metadata": {
        "id": "3jGTp3C1BGR_"
      },
      "source": [
        "# We created a new dataset with the buildings that have complete data.\n",
        "\n",
        "building_ids = [6294, 6492, 6537, 6603, 6669, 6690, 6834, 7167, 7530, 7791, 7899, 8286, 8295, 8331, 8349, 8361, 8385, \n",
        "                4599162238458, 4601239477806, 4608783572670, 4613394659241, 4620142679775, 4628427107424, 4635426411159, \n",
        "                4639327012671, 4639327530792, 4644520776144, 4650760008126, 4655156826969, 4655701297074, 4656183892830, \n",
        "                4656959670501, 4659019937640, 4681584686799, 4693757244189, 4696855216602, 4697172397914, 4697386420251, \n",
        "                4697933506509, 4699461536766, 4706758208598, 4706762863053, 4711164238872, 4715512009560, 4721030218707, \n",
        "                4721540442747, 4721542229706, 4721545602825, 4731619739994, 4734998883585, 4753626976665, 4756727821203, \n",
        "                4776689811420, 4785563955429, 4817919582339]  "
      ],
      "execution_count": 25,
      "outputs": []
    },
    {
      "cell_type": "code",
      "metadata": {
        "colab": {
          "base_uri": "https://localhost:8080/",
          "height": 204
        },
        "id": "4T8tc8FQBNdO",
        "outputId": "ad46283f-1745-4282-88fd-e78d70b75c15"
      },
      "source": [
        "thermostat_df = thermostat_df.loc[thermostat_df['building_id'].isin(building_ids)]\n",
        "thermostat_df.head()"
      ],
      "execution_count": 26,
      "outputs": [
        {
          "output_type": "execute_result",
          "data": {
            "text/html": [
              "<div>\n",
              "<style scoped>\n",
              "    .dataframe tbody tr th:only-of-type {\n",
              "        vertical-align: middle;\n",
              "    }\n",
              "\n",
              "    .dataframe tbody tr th {\n",
              "        vertical-align: top;\n",
              "    }\n",
              "\n",
              "    .dataframe thead th {\n",
              "        text-align: right;\n",
              "    }\n",
              "</style>\n",
              "<table border=\"1\" class=\"dataframe\">\n",
              "  <thead>\n",
              "    <tr style=\"text-align: right;\">\n",
              "      <th></th>\n",
              "      <th>building_id</th>\n",
              "      <th>ts</th>\n",
              "      <th>outdoor_temp</th>\n",
              "      <th>boiler_on</th>\n",
              "      <th>indoor_temp</th>\n",
              "    </tr>\n",
              "  </thead>\n",
              "  <tbody>\n",
              "    <tr>\n",
              "      <th>0</th>\n",
              "      <td>6294</td>\n",
              "      <td>2020-11-17 20:24:00</td>\n",
              "      <td>46.748</td>\n",
              "      <td>0.0</td>\n",
              "      <td>76.6015</td>\n",
              "    </tr>\n",
              "    <tr>\n",
              "      <th>1</th>\n",
              "      <td>6294</td>\n",
              "      <td>2020-11-17 20:25:00</td>\n",
              "      <td>46.798</td>\n",
              "      <td>0.0</td>\n",
              "      <td>76.6015</td>\n",
              "    </tr>\n",
              "    <tr>\n",
              "      <th>2</th>\n",
              "      <td>6294</td>\n",
              "      <td>2020-11-17 20:26:00</td>\n",
              "      <td>46.810</td>\n",
              "      <td>0.0</td>\n",
              "      <td>76.6015</td>\n",
              "    </tr>\n",
              "    <tr>\n",
              "      <th>3</th>\n",
              "      <td>6294</td>\n",
              "      <td>2020-11-17 20:27:00</td>\n",
              "      <td>46.636</td>\n",
              "      <td>0.0</td>\n",
              "      <td>76.6015</td>\n",
              "    </tr>\n",
              "    <tr>\n",
              "      <th>4</th>\n",
              "      <td>6294</td>\n",
              "      <td>2020-11-17 20:28:00</td>\n",
              "      <td>46.224</td>\n",
              "      <td>0.0</td>\n",
              "      <td>76.6015</td>\n",
              "    </tr>\n",
              "  </tbody>\n",
              "</table>\n",
              "</div>"
            ],
            "text/plain": [
              "   building_id                   ts  outdoor_temp  boiler_on  indoor_temp\n",
              "0         6294  2020-11-17 20:24:00        46.748        0.0      76.6015\n",
              "1         6294  2020-11-17 20:25:00        46.798        0.0      76.6015\n",
              "2         6294  2020-11-17 20:26:00        46.810        0.0      76.6015\n",
              "3         6294  2020-11-17 20:27:00        46.636        0.0      76.6015\n",
              "4         6294  2020-11-17 20:28:00        46.224        0.0      76.6015"
            ]
          },
          "metadata": {
            "tags": []
          },
          "execution_count": 26
        }
      ]
    },
    {
      "cell_type": "code",
      "metadata": {
        "colab": {
          "base_uri": "https://localhost:8080/"
        },
        "id": "oXSBxFROBNnT",
        "outputId": "57f7aa6f-3c6e-47fa-a5a0-fc32c352dfaf"
      },
      "source": [
        "# Check for duplicates\n",
        "print('There are {} data points in the datarame before the duplicates are dropped.'.format(len(thermostat_df)))\n",
        "print('There are {} duplicate rows in the data.'.format(thermostat_df.duplicated(subset=['building_id', 'ts', 'boiler_on', 'indoor_temp']).sum()))\n",
        "thermostat_df.drop_duplicates(subset=['building_id', 'ts', 'boiler_on', 'indoor_temp'], inplace=True)\n",
        "print('There are {} data points left in the datarame after the duplicates are dropped.'.format(len(thermostat_df)))"
      ],
      "execution_count": 27,
      "outputs": [
        {
          "output_type": "stream",
          "text": [
            "There are 2049378 data points in the datarame before the duplicates are dropped.\n",
            "There are 0 duplicate rows in the data.\n",
            "There are 2049378 data points left in the datarame after the duplicates are dropped.\n"
          ],
          "name": "stdout"
        }
      ]
    },
    {
      "cell_type": "code",
      "metadata": {
        "colab": {
          "base_uri": "https://localhost:8080/"
        },
        "id": "g9-_rw1_BNwh",
        "outputId": "41d112f9-4497-4238-8380-c3336d8cfac3"
      },
      "source": [
        "thermostat_df.isnull().sum()"
      ],
      "execution_count": 28,
      "outputs": [
        {
          "output_type": "execute_result",
          "data": {
            "text/plain": [
              "building_id     0\n",
              "ts              0\n",
              "outdoor_temp    0\n",
              "boiler_on       0\n",
              "indoor_temp     0\n",
              "dtype: int64"
            ]
          },
          "metadata": {
            "tags": []
          },
          "execution_count": 28
        }
      ]
    },
    {
      "cell_type": "code",
      "metadata": {
        "colab": {
          "base_uri": "https://localhost:8080/",
          "height": 450
        },
        "id": "FTBOvX46BN0o",
        "outputId": "63f8fad1-b7a2-4ef6-a136-68e645774ba1"
      },
      "source": [
        "thermostat_df = thermostat_df.set_index('ts')\n",
        "thermostat_df.index = pd.to_datetime(thermostat_df.index)\n",
        "thermostat_df"
      ],
      "execution_count": 29,
      "outputs": [
        {
          "output_type": "execute_result",
          "data": {
            "text/html": [
              "<div>\n",
              "<style scoped>\n",
              "    .dataframe tbody tr th:only-of-type {\n",
              "        vertical-align: middle;\n",
              "    }\n",
              "\n",
              "    .dataframe tbody tr th {\n",
              "        vertical-align: top;\n",
              "    }\n",
              "\n",
              "    .dataframe thead th {\n",
              "        text-align: right;\n",
              "    }\n",
              "</style>\n",
              "<table border=\"1\" class=\"dataframe\">\n",
              "  <thead>\n",
              "    <tr style=\"text-align: right;\">\n",
              "      <th></th>\n",
              "      <th>building_id</th>\n",
              "      <th>outdoor_temp</th>\n",
              "      <th>boiler_on</th>\n",
              "      <th>indoor_temp</th>\n",
              "    </tr>\n",
              "    <tr>\n",
              "      <th>ts</th>\n",
              "      <th></th>\n",
              "      <th></th>\n",
              "      <th></th>\n",
              "      <th></th>\n",
              "    </tr>\n",
              "  </thead>\n",
              "  <tbody>\n",
              "    <tr>\n",
              "      <th>2020-11-17 20:24:00</th>\n",
              "      <td>6294</td>\n",
              "      <td>46.748</td>\n",
              "      <td>0.0</td>\n",
              "      <td>76.6015</td>\n",
              "    </tr>\n",
              "    <tr>\n",
              "      <th>2020-11-17 20:25:00</th>\n",
              "      <td>6294</td>\n",
              "      <td>46.798</td>\n",
              "      <td>0.0</td>\n",
              "      <td>76.6015</td>\n",
              "    </tr>\n",
              "    <tr>\n",
              "      <th>2020-11-17 20:26:00</th>\n",
              "      <td>6294</td>\n",
              "      <td>46.810</td>\n",
              "      <td>0.0</td>\n",
              "      <td>76.6015</td>\n",
              "    </tr>\n",
              "    <tr>\n",
              "      <th>2020-11-17 20:27:00</th>\n",
              "      <td>6294</td>\n",
              "      <td>46.636</td>\n",
              "      <td>0.0</td>\n",
              "      <td>76.6015</td>\n",
              "    </tr>\n",
              "    <tr>\n",
              "      <th>2020-11-17 20:28:00</th>\n",
              "      <td>6294</td>\n",
              "      <td>46.224</td>\n",
              "      <td>0.0</td>\n",
              "      <td>76.6015</td>\n",
              "    </tr>\n",
              "    <tr>\n",
              "      <th>...</th>\n",
              "      <td>...</td>\n",
              "      <td>...</td>\n",
              "      <td>...</td>\n",
              "      <td>...</td>\n",
              "    </tr>\n",
              "    <tr>\n",
              "      <th>2020-12-17 20:17:00</th>\n",
              "      <td>4817919582339</td>\n",
              "      <td>33.489</td>\n",
              "      <td>0.0</td>\n",
              "      <td>72.3200</td>\n",
              "    </tr>\n",
              "    <tr>\n",
              "      <th>2020-12-17 20:18:00</th>\n",
              "      <td>4817919582339</td>\n",
              "      <td>33.410</td>\n",
              "      <td>0.0</td>\n",
              "      <td>72.3200</td>\n",
              "    </tr>\n",
              "    <tr>\n",
              "      <th>2020-12-17 20:19:00</th>\n",
              "      <td>4817919582339</td>\n",
              "      <td>33.346</td>\n",
              "      <td>0.0</td>\n",
              "      <td>72.3200</td>\n",
              "    </tr>\n",
              "    <tr>\n",
              "      <th>2020-12-17 20:20:00</th>\n",
              "      <td>4817919582339</td>\n",
              "      <td>33.267</td>\n",
              "      <td>0.0</td>\n",
              "      <td>72.3200</td>\n",
              "    </tr>\n",
              "    <tr>\n",
              "      <th>2020-12-17 20:21:00</th>\n",
              "      <td>4817919582339</td>\n",
              "      <td>33.125</td>\n",
              "      <td>0.0</td>\n",
              "      <td>72.3200</td>\n",
              "    </tr>\n",
              "  </tbody>\n",
              "</table>\n",
              "<p>2049378 rows × 4 columns</p>\n",
              "</div>"
            ],
            "text/plain": [
              "                       building_id  outdoor_temp  boiler_on  indoor_temp\n",
              "ts                                                                      \n",
              "2020-11-17 20:24:00           6294        46.748        0.0      76.6015\n",
              "2020-11-17 20:25:00           6294        46.798        0.0      76.6015\n",
              "2020-11-17 20:26:00           6294        46.810        0.0      76.6015\n",
              "2020-11-17 20:27:00           6294        46.636        0.0      76.6015\n",
              "2020-11-17 20:28:00           6294        46.224        0.0      76.6015\n",
              "...                            ...           ...        ...          ...\n",
              "2020-12-17 20:17:00  4817919582339        33.489        0.0      72.3200\n",
              "2020-12-17 20:18:00  4817919582339        33.410        0.0      72.3200\n",
              "2020-12-17 20:19:00  4817919582339        33.346        0.0      72.3200\n",
              "2020-12-17 20:20:00  4817919582339        33.267        0.0      72.3200\n",
              "2020-12-17 20:21:00  4817919582339        33.125        0.0      72.3200\n",
              "\n",
              "[2049378 rows x 4 columns]"
            ]
          },
          "metadata": {
            "tags": []
          },
          "execution_count": 29
        }
      ]
    },
    {
      "cell_type": "code",
      "metadata": {
        "id": "4m9h9ny1BN7x"
      },
      "source": [
        "# Save this dataset.\n",
        "thermostat_df.to_csv('/CSV_Files/thermostat_df.csv')"
      ],
      "execution_count": 64,
      "outputs": []
    },
    {
      "cell_type": "markdown",
      "metadata": {
        "id": "UJ5WyTEGCG9u"
      },
      "source": [
        "## Model Test with ID 4620142679775"
      ]
    },
    {
      "cell_type": "markdown",
      "metadata": {
        "id": "YUt6EwBNCRhY"
      },
      "source": [
        "### Predictor and Target Variables"
      ]
    },
    {
      "cell_type": "code",
      "metadata": {
        "colab": {
          "base_uri": "https://localhost:8080/",
          "height": 235
        },
        "id": "G5Lk5TflBOCO",
        "outputId": "460abf32-81d8-4511-dbf9-1a848b5d8e71"
      },
      "source": [
        "ts_1 = thermostat_df[thermostat_df['building_id'] == 4620142679775]\n",
        "ts_1.drop('building_id', axis=1, inplace=True)\n",
        "ts_1.head()"
      ],
      "execution_count": 30,
      "outputs": [
        {
          "output_type": "execute_result",
          "data": {
            "text/html": [
              "<div>\n",
              "<style scoped>\n",
              "    .dataframe tbody tr th:only-of-type {\n",
              "        vertical-align: middle;\n",
              "    }\n",
              "\n",
              "    .dataframe tbody tr th {\n",
              "        vertical-align: top;\n",
              "    }\n",
              "\n",
              "    .dataframe thead th {\n",
              "        text-align: right;\n",
              "    }\n",
              "</style>\n",
              "<table border=\"1\" class=\"dataframe\">\n",
              "  <thead>\n",
              "    <tr style=\"text-align: right;\">\n",
              "      <th></th>\n",
              "      <th>outdoor_temp</th>\n",
              "      <th>boiler_on</th>\n",
              "      <th>indoor_temp</th>\n",
              "    </tr>\n",
              "    <tr>\n",
              "      <th>ts</th>\n",
              "      <th></th>\n",
              "      <th></th>\n",
              "      <th></th>\n",
              "    </tr>\n",
              "  </thead>\n",
              "  <tbody>\n",
              "    <tr>\n",
              "      <th>2020-11-17 20:24:00</th>\n",
              "      <td>46.274</td>\n",
              "      <td>0.0</td>\n",
              "      <td>70.9245</td>\n",
              "    </tr>\n",
              "    <tr>\n",
              "      <th>2020-11-17 20:25:00</th>\n",
              "      <td>46.449</td>\n",
              "      <td>0.0</td>\n",
              "      <td>70.9245</td>\n",
              "    </tr>\n",
              "    <tr>\n",
              "      <th>2020-11-17 20:26:00</th>\n",
              "      <td>46.574</td>\n",
              "      <td>0.0</td>\n",
              "      <td>70.9245</td>\n",
              "    </tr>\n",
              "    <tr>\n",
              "      <th>2020-11-17 20:27:00</th>\n",
              "      <td>46.822</td>\n",
              "      <td>0.0</td>\n",
              "      <td>70.9245</td>\n",
              "    </tr>\n",
              "    <tr>\n",
              "      <th>2020-11-17 20:28:00</th>\n",
              "      <td>46.736</td>\n",
              "      <td>0.0</td>\n",
              "      <td>70.9245</td>\n",
              "    </tr>\n",
              "  </tbody>\n",
              "</table>\n",
              "</div>"
            ],
            "text/plain": [
              "                     outdoor_temp  boiler_on  indoor_temp\n",
              "ts                                                       \n",
              "2020-11-17 20:24:00        46.274        0.0      70.9245\n",
              "2020-11-17 20:25:00        46.449        0.0      70.9245\n",
              "2020-11-17 20:26:00        46.574        0.0      70.9245\n",
              "2020-11-17 20:27:00        46.822        0.0      70.9245\n",
              "2020-11-17 20:28:00        46.736        0.0      70.9245"
            ]
          },
          "metadata": {
            "tags": []
          },
          "execution_count": 30
        }
      ]
    },
    {
      "cell_type": "code",
      "metadata": {
        "colab": {
          "base_uri": "https://localhost:8080/",
          "height": 425
        },
        "id": "As4_n7rbDvLF",
        "outputId": "5b03d71b-3359-4e9e-b329-fe5ce1cb31e9"
      },
      "source": [
        "# Create predictors dataset with previous 4 minutes' data\n",
        "for col in ts_1.columns:\n",
        "    for i in range(1,5):\n",
        "        ts_1[col+str(i)+'_min_ago'] = ts_1[col].shift(i)\n",
        "\n",
        "ts_1.dropna(inplace=True)\n",
        "X_1 = ts_1.copy()\n",
        "X_1.head()"
      ],
      "execution_count": 31,
      "outputs": [
        {
          "output_type": "execute_result",
          "data": {
            "text/html": [
              "<div>\n",
              "<style scoped>\n",
              "    .dataframe tbody tr th:only-of-type {\n",
              "        vertical-align: middle;\n",
              "    }\n",
              "\n",
              "    .dataframe tbody tr th {\n",
              "        vertical-align: top;\n",
              "    }\n",
              "\n",
              "    .dataframe thead th {\n",
              "        text-align: right;\n",
              "    }\n",
              "</style>\n",
              "<table border=\"1\" class=\"dataframe\">\n",
              "  <thead>\n",
              "    <tr style=\"text-align: right;\">\n",
              "      <th></th>\n",
              "      <th>outdoor_temp</th>\n",
              "      <th>boiler_on</th>\n",
              "      <th>indoor_temp</th>\n",
              "      <th>outdoor_temp1_min_ago</th>\n",
              "      <th>outdoor_temp2_min_ago</th>\n",
              "      <th>outdoor_temp3_min_ago</th>\n",
              "      <th>outdoor_temp4_min_ago</th>\n",
              "      <th>boiler_on1_min_ago</th>\n",
              "      <th>boiler_on2_min_ago</th>\n",
              "      <th>boiler_on3_min_ago</th>\n",
              "      <th>boiler_on4_min_ago</th>\n",
              "      <th>indoor_temp1_min_ago</th>\n",
              "      <th>indoor_temp2_min_ago</th>\n",
              "      <th>indoor_temp3_min_ago</th>\n",
              "      <th>indoor_temp4_min_ago</th>\n",
              "    </tr>\n",
              "    <tr>\n",
              "      <th>ts</th>\n",
              "      <th></th>\n",
              "      <th></th>\n",
              "      <th></th>\n",
              "      <th></th>\n",
              "      <th></th>\n",
              "      <th></th>\n",
              "      <th></th>\n",
              "      <th></th>\n",
              "      <th></th>\n",
              "      <th></th>\n",
              "      <th></th>\n",
              "      <th></th>\n",
              "      <th></th>\n",
              "      <th></th>\n",
              "      <th></th>\n",
              "    </tr>\n",
              "  </thead>\n",
              "  <tbody>\n",
              "    <tr>\n",
              "      <th>2020-11-17 20:28:00</th>\n",
              "      <td>46.736</td>\n",
              "      <td>0.0</td>\n",
              "      <td>70.9245</td>\n",
              "      <td>46.822</td>\n",
              "      <td>46.574</td>\n",
              "      <td>46.449</td>\n",
              "      <td>46.274</td>\n",
              "      <td>0.0</td>\n",
              "      <td>0.0</td>\n",
              "      <td>0.0</td>\n",
              "      <td>0.0</td>\n",
              "      <td>70.9245</td>\n",
              "      <td>70.9245</td>\n",
              "      <td>70.9245</td>\n",
              "      <td>70.9245</td>\n",
              "    </tr>\n",
              "    <tr>\n",
              "      <th>2020-11-17 20:29:00</th>\n",
              "      <td>46.760</td>\n",
              "      <td>0.0</td>\n",
              "      <td>70.9245</td>\n",
              "      <td>46.736</td>\n",
              "      <td>46.822</td>\n",
              "      <td>46.574</td>\n",
              "      <td>46.449</td>\n",
              "      <td>0.0</td>\n",
              "      <td>0.0</td>\n",
              "      <td>0.0</td>\n",
              "      <td>0.0</td>\n",
              "      <td>70.9245</td>\n",
              "      <td>70.9245</td>\n",
              "      <td>70.9245</td>\n",
              "      <td>70.9245</td>\n",
              "    </tr>\n",
              "    <tr>\n",
              "      <th>2020-11-17 20:30:00</th>\n",
              "      <td>46.673</td>\n",
              "      <td>0.0</td>\n",
              "      <td>70.9245</td>\n",
              "      <td>46.760</td>\n",
              "      <td>46.736</td>\n",
              "      <td>46.822</td>\n",
              "      <td>46.574</td>\n",
              "      <td>0.0</td>\n",
              "      <td>0.0</td>\n",
              "      <td>0.0</td>\n",
              "      <td>0.0</td>\n",
              "      <td>70.9245</td>\n",
              "      <td>70.9245</td>\n",
              "      <td>70.9245</td>\n",
              "      <td>70.9245</td>\n",
              "    </tr>\n",
              "    <tr>\n",
              "      <th>2020-11-17 20:31:00</th>\n",
              "      <td>46.835</td>\n",
              "      <td>0.0</td>\n",
              "      <td>70.9245</td>\n",
              "      <td>46.673</td>\n",
              "      <td>46.760</td>\n",
              "      <td>46.736</td>\n",
              "      <td>46.822</td>\n",
              "      <td>0.0</td>\n",
              "      <td>0.0</td>\n",
              "      <td>0.0</td>\n",
              "      <td>0.0</td>\n",
              "      <td>70.9245</td>\n",
              "      <td>70.9245</td>\n",
              "      <td>70.9245</td>\n",
              "      <td>70.9245</td>\n",
              "    </tr>\n",
              "    <tr>\n",
              "      <th>2020-11-17 20:32:00</th>\n",
              "      <td>46.860</td>\n",
              "      <td>0.0</td>\n",
              "      <td>70.8685</td>\n",
              "      <td>46.835</td>\n",
              "      <td>46.673</td>\n",
              "      <td>46.760</td>\n",
              "      <td>46.736</td>\n",
              "      <td>0.0</td>\n",
              "      <td>0.0</td>\n",
              "      <td>0.0</td>\n",
              "      <td>0.0</td>\n",
              "      <td>70.9245</td>\n",
              "      <td>70.9245</td>\n",
              "      <td>70.9245</td>\n",
              "      <td>70.9245</td>\n",
              "    </tr>\n",
              "  </tbody>\n",
              "</table>\n",
              "</div>"
            ],
            "text/plain": [
              "                     outdoor_temp  ...  indoor_temp4_min_ago\n",
              "ts                                 ...                      \n",
              "2020-11-17 20:28:00        46.736  ...               70.9245\n",
              "2020-11-17 20:29:00        46.760  ...               70.9245\n",
              "2020-11-17 20:30:00        46.673  ...               70.9245\n",
              "2020-11-17 20:31:00        46.835  ...               70.9245\n",
              "2020-11-17 20:32:00        46.860  ...               70.9245\n",
              "\n",
              "[5 rows x 15 columns]"
            ]
          },
          "metadata": {
            "tags": []
          },
          "execution_count": 31
        }
      ]
    },
    {
      "cell_type": "code",
      "metadata": {
        "colab": {
          "base_uri": "https://localhost:8080/",
          "height": 235
        },
        "id": "Sqb2Igc0D1An",
        "outputId": "5d791a9e-9306-423b-b61d-1fb15bff1ecd"
      },
      "source": [
        "#Create target column to compare predictions\n",
        "y_1 = ts_1[['indoor_temp']].shift(periods=-5)\n",
        "y_1.dropna(inplace=True)\n",
        "y_1.head()"
      ],
      "execution_count": 32,
      "outputs": [
        {
          "output_type": "execute_result",
          "data": {
            "text/html": [
              "<div>\n",
              "<style scoped>\n",
              "    .dataframe tbody tr th:only-of-type {\n",
              "        vertical-align: middle;\n",
              "    }\n",
              "\n",
              "    .dataframe tbody tr th {\n",
              "        vertical-align: top;\n",
              "    }\n",
              "\n",
              "    .dataframe thead th {\n",
              "        text-align: right;\n",
              "    }\n",
              "</style>\n",
              "<table border=\"1\" class=\"dataframe\">\n",
              "  <thead>\n",
              "    <tr style=\"text-align: right;\">\n",
              "      <th></th>\n",
              "      <th>indoor_temp</th>\n",
              "    </tr>\n",
              "    <tr>\n",
              "      <th>ts</th>\n",
              "      <th></th>\n",
              "    </tr>\n",
              "  </thead>\n",
              "  <tbody>\n",
              "    <tr>\n",
              "      <th>2020-11-17 20:28:00</th>\n",
              "      <td>70.8685</td>\n",
              "    </tr>\n",
              "    <tr>\n",
              "      <th>2020-11-17 20:29:00</th>\n",
              "      <td>70.7560</td>\n",
              "    </tr>\n",
              "    <tr>\n",
              "      <th>2020-11-17 20:30:00</th>\n",
              "      <td>70.7560</td>\n",
              "    </tr>\n",
              "    <tr>\n",
              "      <th>2020-11-17 20:31:00</th>\n",
              "      <td>70.8640</td>\n",
              "    </tr>\n",
              "    <tr>\n",
              "      <th>2020-11-17 20:32:00</th>\n",
              "      <td>70.8120</td>\n",
              "    </tr>\n",
              "  </tbody>\n",
              "</table>\n",
              "</div>"
            ],
            "text/plain": [
              "                     indoor_temp\n",
              "ts                              \n",
              "2020-11-17 20:28:00      70.8685\n",
              "2020-11-17 20:29:00      70.7560\n",
              "2020-11-17 20:30:00      70.7560\n",
              "2020-11-17 20:31:00      70.8640\n",
              "2020-11-17 20:32:00      70.8120"
            ]
          },
          "metadata": {
            "tags": []
          },
          "execution_count": 32
        }
      ]
    },
    {
      "cell_type": "code",
      "metadata": {
        "colab": {
          "base_uri": "https://localhost:8080/"
        },
        "id": "EQKUMgXqBOIK",
        "outputId": "0d9b9196-7816-4d6f-bc35-bca80524398e"
      },
      "source": [
        "print(len(X_1), len(y_1))\n",
        "X_1 = X_1[:len(y_1)]\n",
        "print(len(X_1), len(y_1))"
      ],
      "execution_count": 33,
      "outputs": [
        {
          "output_type": "stream",
          "text": [
            "41894 41889\n",
            "41889 41889\n"
          ],
          "name": "stdout"
        }
      ]
    },
    {
      "cell_type": "markdown",
      "metadata": {
        "id": "4NYOWqJbCrUg"
      },
      "source": [
        "### Testing"
      ]
    },
    {
      "cell_type": "code",
      "metadata": {
        "colab": {
          "base_uri": "https://localhost:8080/"
        },
        "id": "l_nkEe4g7hJg",
        "outputId": "32d8915f-21f3-4367-bbd5-087c13711358"
      },
      "source": [
        "pred_train_1 = pipeline_ets.predict(X_train)\n",
        "pred_test_1 = pipeline_ets.predict(X_1)\n",
        "\n",
        "print('Train Score : ', round(pipeline_ets.score(X_train, y_train),5))\n",
        "print('Test Score  : ', round(pipeline_ets.score(X_1, y_1),5), '\\n')\n",
        "\n",
        "mse_train_1 = round(mean_squared_error(y_train, pred_train_1),5)\n",
        "mse_test_1 = round(mean_squared_error(y_1, pred_test_1),5)\n",
        "print('Train Mean Squared Error of Building ID - 4620142679775: ', mse_train_1)\n",
        "print('Test Mean Squared Error of Building ID - 4620142679775: ', mse_test_1)"
      ],
      "execution_count": 39,
      "outputs": [
        {
          "output_type": "stream",
          "text": [
            "Train Score :  1.0\n",
            "Test Score  :  0.87273 \n",
            "\n",
            "Train Mean Squared Error of Building ID - 4620142679775:  0.0\n",
            "Test Mean Squared Error of Building ID - 4620142679775:  0.17337\n"
          ],
          "name": "stdout"
        }
      ]
    },
    {
      "cell_type": "markdown",
      "metadata": {
        "id": "7lmcAfdv6jYT"
      },
      "source": [
        "### ***Observations***\n",
        "\n",
        "*   Our pilot model's MSE is 0.03094\n",
        "*   For Building ID: 4620142679775, new MSE is 0.173."
      ]
    },
    {
      "cell_type": "markdown",
      "metadata": {
        "id": "_AG91k8uEUwf"
      },
      "source": [
        "## Model Test with ID 6492"
      ]
    },
    {
      "cell_type": "markdown",
      "metadata": {
        "id": "YVWZkk9-EVfJ"
      },
      "source": [
        "### Predictor and Target Variables"
      ]
    },
    {
      "cell_type": "code",
      "metadata": {
        "id": "0T1pZfPzDCL1"
      },
      "source": [
        "ts_2 = thermostat_df[thermostat_df['building_id'] == 6492]\n",
        "ts_2.drop('building_id', axis=1, inplace=True)\n",
        "\n",
        "# Create predictors dataset with previous 4 minutes' data\n",
        "for col in ts_2.columns:\n",
        "    for i in range(1,5):\n",
        "        ts_2[col+str(i)] = ts_2[col].shift(i)\n",
        "\n",
        "ts_2.dropna(inplace=True)\n",
        "X_2 = ts_2.copy()\n",
        "\n",
        "#Create target column to compare predictions\n",
        "y_2 = ts_2[['indoor_temp']].shift(periods=-5)\n",
        "y_2.dropna(inplace=True)"
      ],
      "execution_count": 40,
      "outputs": []
    },
    {
      "cell_type": "code",
      "metadata": {
        "id": "hAPME0YOEwiV",
        "colab": {
          "base_uri": "https://localhost:8080/"
        },
        "outputId": "84c53aa6-93f2-4bd0-a196-975344ce5a4c"
      },
      "source": [
        "print(len(X_2), len(y_2))\n",
        "X_2 = X_2[:len(y_2)]\n",
        "print(len(X_2), len(y_2))"
      ],
      "execution_count": 41,
      "outputs": [
        {
          "output_type": "stream",
          "text": [
            "11408 11403\n",
            "11403 11403\n"
          ],
          "name": "stdout"
        }
      ]
    },
    {
      "cell_type": "markdown",
      "metadata": {
        "id": "CMrJipIIEzod"
      },
      "source": [
        "### Testing"
      ]
    },
    {
      "cell_type": "code",
      "metadata": {
        "colab": {
          "base_uri": "https://localhost:8080/"
        },
        "id": "nCmFTh3VExPY",
        "outputId": "337e93d8-61b8-486f-963f-f5e551d942a2"
      },
      "source": [
        "pred_train_2 = pipeline_ets.predict(X_train)\n",
        "pred_test_2 = pipeline_ets.predict(X_2)\n",
        "\n",
        "print('Train Score : ', round(pipeline_ets.score(X_train, y_train),5))\n",
        "print('Test Score  : ', round(pipeline_ets.score(X_2, y_2),5), '\\n')\n",
        "\n",
        "mse_train_2 = round(mean_squared_error(y_train, pred_train_2),5)\n",
        "mse_test_2 = round(mean_squared_error(y_2, pred_test_2),5)\n",
        "print('Train Mean Squared Error of Building ID - 6492: ', mse_train_2)\n",
        "print('Test Mean Squared Error of Building ID - 6492: ', mse_test_2)"
      ],
      "execution_count": 42,
      "outputs": [
        {
          "output_type": "stream",
          "text": [
            "Train Score :  1.0\n",
            "Test Score  :  0.84695 \n",
            "\n",
            "Train Mean Squared Error of Building ID - 6492:  0.0\n",
            "Test Mean Squared Error of Building ID - 6492:  0.24543\n"
          ],
          "name": "stdout"
        }
      ]
    },
    {
      "cell_type": "markdown",
      "metadata": {
        "id": "Q7QZIXrt995G"
      },
      "source": [
        "### ***Observations***\n",
        "\n",
        "*   Our pilot model's MSE is 0.03094\n",
        "*   For Building ID: 6492, new MSE is 0.24543."
      ]
    },
    {
      "cell_type": "markdown",
      "metadata": {
        "id": "p26Cck_IFC7I"
      },
      "source": [
        "# MODELING WITH COMPLETE DATASET"
      ]
    },
    {
      "cell_type": "markdown",
      "metadata": {
        "id": "gimMNDkEFDKP"
      },
      "source": [
        "## Predictors and Target Variables"
      ]
    },
    {
      "cell_type": "code",
      "metadata": {
        "colab": {
          "base_uri": "https://localhost:8080/",
          "height": 235
        },
        "id": "fOjhNB9qE59U",
        "outputId": "7094edf8-517d-46a9-abaa-96032940d2de"
      },
      "source": [
        "ts_ = thermostat_df.copy()\n",
        "ts_.drop('building_id', axis=1, inplace=True)\n",
        "\n",
        "for col in ts_.columns:\n",
        "    for i in range(1,5):\n",
        "        ts_[col+str(i)] = ts_[col].shift(i)\n",
        "\n",
        "ts_.dropna(inplace=True)\n",
        "X = ts_.copy()\n",
        "X.head()"
      ],
      "execution_count": 44,
      "outputs": [
        {
          "output_type": "execute_result",
          "data": {
            "text/html": [
              "<div>\n",
              "<style scoped>\n",
              "    .dataframe tbody tr th:only-of-type {\n",
              "        vertical-align: middle;\n",
              "    }\n",
              "\n",
              "    .dataframe tbody tr th {\n",
              "        vertical-align: top;\n",
              "    }\n",
              "\n",
              "    .dataframe thead th {\n",
              "        text-align: right;\n",
              "    }\n",
              "</style>\n",
              "<table border=\"1\" class=\"dataframe\">\n",
              "  <thead>\n",
              "    <tr style=\"text-align: right;\">\n",
              "      <th></th>\n",
              "      <th>outdoor_temp</th>\n",
              "      <th>boiler_on</th>\n",
              "      <th>indoor_temp</th>\n",
              "      <th>outdoor_temp1</th>\n",
              "      <th>outdoor_temp2</th>\n",
              "      <th>outdoor_temp3</th>\n",
              "      <th>outdoor_temp4</th>\n",
              "      <th>boiler_on1</th>\n",
              "      <th>boiler_on2</th>\n",
              "      <th>boiler_on3</th>\n",
              "      <th>boiler_on4</th>\n",
              "      <th>indoor_temp1</th>\n",
              "      <th>indoor_temp2</th>\n",
              "      <th>indoor_temp3</th>\n",
              "      <th>indoor_temp4</th>\n",
              "    </tr>\n",
              "    <tr>\n",
              "      <th>ts</th>\n",
              "      <th></th>\n",
              "      <th></th>\n",
              "      <th></th>\n",
              "      <th></th>\n",
              "      <th></th>\n",
              "      <th></th>\n",
              "      <th></th>\n",
              "      <th></th>\n",
              "      <th></th>\n",
              "      <th></th>\n",
              "      <th></th>\n",
              "      <th></th>\n",
              "      <th></th>\n",
              "      <th></th>\n",
              "      <th></th>\n",
              "    </tr>\n",
              "  </thead>\n",
              "  <tbody>\n",
              "    <tr>\n",
              "      <th>2020-11-17 20:28:00</th>\n",
              "      <td>46.224</td>\n",
              "      <td>0.0</td>\n",
              "      <td>76.6015</td>\n",
              "      <td>46.636</td>\n",
              "      <td>46.810</td>\n",
              "      <td>46.798</td>\n",
              "      <td>46.748</td>\n",
              "      <td>0.0</td>\n",
              "      <td>0.0</td>\n",
              "      <td>0.0</td>\n",
              "      <td>0.0</td>\n",
              "      <td>76.6015</td>\n",
              "      <td>76.6015</td>\n",
              "      <td>76.6015</td>\n",
              "      <td>76.6015</td>\n",
              "    </tr>\n",
              "    <tr>\n",
              "      <th>2020-11-17 20:29:00</th>\n",
              "      <td>46.362</td>\n",
              "      <td>0.0</td>\n",
              "      <td>76.6015</td>\n",
              "      <td>46.224</td>\n",
              "      <td>46.636</td>\n",
              "      <td>46.810</td>\n",
              "      <td>46.798</td>\n",
              "      <td>0.0</td>\n",
              "      <td>0.0</td>\n",
              "      <td>0.0</td>\n",
              "      <td>0.0</td>\n",
              "      <td>76.6015</td>\n",
              "      <td>76.6015</td>\n",
              "      <td>76.6015</td>\n",
              "      <td>76.6015</td>\n",
              "    </tr>\n",
              "    <tr>\n",
              "      <th>2020-11-17 20:30:00</th>\n",
              "      <td>46.586</td>\n",
              "      <td>0.0</td>\n",
              "      <td>76.6015</td>\n",
              "      <td>46.362</td>\n",
              "      <td>46.224</td>\n",
              "      <td>46.636</td>\n",
              "      <td>46.810</td>\n",
              "      <td>0.0</td>\n",
              "      <td>0.0</td>\n",
              "      <td>0.0</td>\n",
              "      <td>0.0</td>\n",
              "      <td>76.6015</td>\n",
              "      <td>76.6015</td>\n",
              "      <td>76.6015</td>\n",
              "      <td>76.6015</td>\n",
              "    </tr>\n",
              "    <tr>\n",
              "      <th>2020-11-17 20:31:00</th>\n",
              "      <td>46.437</td>\n",
              "      <td>0.0</td>\n",
              "      <td>76.5455</td>\n",
              "      <td>46.586</td>\n",
              "      <td>46.362</td>\n",
              "      <td>46.224</td>\n",
              "      <td>46.636</td>\n",
              "      <td>0.0</td>\n",
              "      <td>0.0</td>\n",
              "      <td>0.0</td>\n",
              "      <td>0.0</td>\n",
              "      <td>76.6015</td>\n",
              "      <td>76.6015</td>\n",
              "      <td>76.6015</td>\n",
              "      <td>76.6015</td>\n",
              "    </tr>\n",
              "    <tr>\n",
              "      <th>2020-11-17 20:32:00</th>\n",
              "      <td>46.337</td>\n",
              "      <td>0.0</td>\n",
              "      <td>76.5455</td>\n",
              "      <td>46.437</td>\n",
              "      <td>46.586</td>\n",
              "      <td>46.362</td>\n",
              "      <td>46.224</td>\n",
              "      <td>0.0</td>\n",
              "      <td>0.0</td>\n",
              "      <td>0.0</td>\n",
              "      <td>0.0</td>\n",
              "      <td>76.5455</td>\n",
              "      <td>76.6015</td>\n",
              "      <td>76.6015</td>\n",
              "      <td>76.6015</td>\n",
              "    </tr>\n",
              "  </tbody>\n",
              "</table>\n",
              "</div>"
            ],
            "text/plain": [
              "                     outdoor_temp  boiler_on  ...  indoor_temp3  indoor_temp4\n",
              "ts                                            ...                            \n",
              "2020-11-17 20:28:00        46.224        0.0  ...       76.6015       76.6015\n",
              "2020-11-17 20:29:00        46.362        0.0  ...       76.6015       76.6015\n",
              "2020-11-17 20:30:00        46.586        0.0  ...       76.6015       76.6015\n",
              "2020-11-17 20:31:00        46.437        0.0  ...       76.6015       76.6015\n",
              "2020-11-17 20:32:00        46.337        0.0  ...       76.6015       76.6015\n",
              "\n",
              "[5 rows x 15 columns]"
            ]
          },
          "metadata": {
            "tags": []
          },
          "execution_count": 44
        }
      ]
    },
    {
      "cell_type": "code",
      "metadata": {
        "colab": {
          "base_uri": "https://localhost:8080/",
          "height": 235
        },
        "id": "cNjJ5R44FjOR",
        "outputId": "6f699c83-aefe-4c9d-d80f-e2841a827b93"
      },
      "source": [
        "#Create target column to compare predictions\n",
        "y = ts_[['indoor_temp']].shift(periods=-5)\n",
        "y.dropna(inplace=True)\n",
        "y.head()"
      ],
      "execution_count": 45,
      "outputs": [
        {
          "output_type": "execute_result",
          "data": {
            "text/html": [
              "<div>\n",
              "<style scoped>\n",
              "    .dataframe tbody tr th:only-of-type {\n",
              "        vertical-align: middle;\n",
              "    }\n",
              "\n",
              "    .dataframe tbody tr th {\n",
              "        vertical-align: top;\n",
              "    }\n",
              "\n",
              "    .dataframe thead th {\n",
              "        text-align: right;\n",
              "    }\n",
              "</style>\n",
              "<table border=\"1\" class=\"dataframe\">\n",
              "  <thead>\n",
              "    <tr style=\"text-align: right;\">\n",
              "      <th></th>\n",
              "      <th>indoor_temp</th>\n",
              "    </tr>\n",
              "    <tr>\n",
              "      <th>ts</th>\n",
              "      <th></th>\n",
              "    </tr>\n",
              "  </thead>\n",
              "  <tbody>\n",
              "    <tr>\n",
              "      <th>2020-11-17 20:28:00</th>\n",
              "      <td>76.5455</td>\n",
              "    </tr>\n",
              "    <tr>\n",
              "      <th>2020-11-17 20:29:00</th>\n",
              "      <td>76.5455</td>\n",
              "    </tr>\n",
              "    <tr>\n",
              "      <th>2020-11-17 20:30:00</th>\n",
              "      <td>76.5455</td>\n",
              "    </tr>\n",
              "    <tr>\n",
              "      <th>2020-11-17 20:31:00</th>\n",
              "      <td>76.5455</td>\n",
              "    </tr>\n",
              "    <tr>\n",
              "      <th>2020-11-17 20:32:00</th>\n",
              "      <td>76.5455</td>\n",
              "    </tr>\n",
              "  </tbody>\n",
              "</table>\n",
              "</div>"
            ],
            "text/plain": [
              "                     indoor_temp\n",
              "ts                              \n",
              "2020-11-17 20:28:00      76.5455\n",
              "2020-11-17 20:29:00      76.5455\n",
              "2020-11-17 20:30:00      76.5455\n",
              "2020-11-17 20:31:00      76.5455\n",
              "2020-11-17 20:32:00      76.5455"
            ]
          },
          "metadata": {
            "tags": []
          },
          "execution_count": 45
        }
      ]
    },
    {
      "cell_type": "code",
      "metadata": {
        "colab": {
          "base_uri": "https://localhost:8080/"
        },
        "id": "vFUwnzaDFmEq",
        "outputId": "7f6bed63-e3db-4245-f38f-b93860f5b3e3"
      },
      "source": [
        "print(len(X), len(y))\n",
        "X = X[:len(y)]\n",
        "print(len(X), len(y))"
      ],
      "execution_count": 46,
      "outputs": [
        {
          "output_type": "stream",
          "text": [
            "2049374 2049369\n",
            "2049369 2049369\n"
          ],
          "name": "stdout"
        }
      ]
    },
    {
      "cell_type": "markdown",
      "metadata": {
        "id": "K8yj7-c5Fxaw"
      },
      "source": [
        "## Testing"
      ]
    },
    {
      "cell_type": "code",
      "metadata": {
        "id": "KpoNX2R2GdZV",
        "colab": {
          "base_uri": "https://localhost:8080/"
        },
        "outputId": "c1cc12f3-29ce-4ffb-9ea2-fedacb84c371"
      },
      "source": [
        "pred_train = pipeline_ets.predict(X_train)\n",
        "pred_test = pipeline_ets.predict(X)\n",
        "\n",
        "print('Train Score : ', round(pipeline_ets.score(X_train, y_train),5))\n",
        "print('Test Score  : ', round(pipeline_ets.score(X, y),5), '\\n')\n",
        "\n",
        "mse_train = round(mean_squared_error(y_train, pred_train),5)\n",
        "mse_test = round(mean_squared_error(y, pred_test),5)\n",
        "print('Train Mean Squared Error of 38 Buildings: ', mse_train)\n",
        "print('Test Mean Squared Error of 38 Building: ', mse_test)"
      ],
      "execution_count": 47,
      "outputs": [
        {
          "output_type": "stream",
          "text": [
            "Train Score :  1.0\n",
            "Test Score  :  0.84895 \n",
            "\n",
            "Train Mean Squared Error of 38 Buildings:  0.0\n",
            "Test Mean Squared Error of 38 Building:  0.80366\n"
          ],
          "name": "stdout"
        }
      ]
    },
    {
      "cell_type": "markdown",
      "metadata": {
        "id": "0XP4GSzNVh3x"
      },
      "source": [
        "## Modeling"
      ]
    },
    {
      "cell_type": "code",
      "metadata": {
        "colab": {
          "base_uri": "https://localhost:8080/",
          "height": 676
        },
        "id": "KIpOz8aMVrlJ",
        "outputId": "d7aa7e8e-216d-4acb-b1cc-9e62c7a86737"
      },
      "source": [
        "X_train, X_test, y_train, y_test = train_test_split(X, y, test_size=0.3, random_state=123)\n",
        "\n",
        "extra_trees = ExtraTreesRegressor(criterion='mse',\n",
        "                                  random_state=123)\n",
        "\n",
        "scale= StandardScaler()\n",
        "\n",
        "regression_modeling(extra_trees, scaler, 'Extra Trees Regression')"
      ],
      "execution_count": 48,
      "outputs": [
        {
          "output_type": "stream",
          "text": [
            "Train Score :  1.0\n",
            "Test Score  :  0.98692 \n",
            "\n",
            "Extra Trees Regression Mean Squared Error :  0.06979\n",
            "\n",
            "\n",
            "\n"
          ],
          "name": "stdout"
        },
        {
          "output_type": "display_data",
          "data": {
            "image/png": "[encoded data removed]",
            "text/plain": [
              "<Figure size 1296x576 with 2 Axes>"
            ]
          },
          "metadata": {
            "tags": []
          }
        }
      ]
    },
    {
      "cell_type": "markdown",
      "metadata": {
        "id": "Hxoiw_Qj_eN5"
      },
      "source": [
        "### ***Observations***\n",
        "\n",
        "*   We the Extra Trees Regression model on the entire dataset including 38 buildings. The MSE is 0.803. \n",
        "\n",
        "*   For regression models, we aim to minimize the MSE value. We can assume each building has different variations in effect so the same model provides different results for different buildings. \n",
        "\n",
        "*   We created a new Extra Trees Regression with the entire dataset. Our MSE is 0.067."
      ]
    },
    {
      "cell_type": "markdown",
      "metadata": {
        "id": "e_EeSz1qBwlm"
      },
      "source": [
        "# CONCLUSION"
      ]
    },
    {
      "cell_type": "markdown",
      "metadata": {
        "id": "IF9LybXvBy0y"
      },
      "source": [
        "\n",
        "*   Extra Trees Regressor Model provide the least Mean Squared Error value for for the multivariate regression models. This value is also better than univariate regression models.\n",
        "\n",
        "*   Our base model has an MSE of 0.031.\n",
        "\n",
        "*   This model significantly relies on indoor temperatures.\n",
        "\n",
        "*   We continue analysis by applying the same regression model to the different buildings' data to see how applicable our model is. \n",
        "\n",
        "*   We apply this model to 2 different buildings and calculate MSEs of 0.173 and 0.245, which are higher that the base model.\n",
        "\n",
        "*   This is an indication of that our model is not widely applicable.\n",
        "\n",
        "*   Later we continue applying the model to all 38 buildings in New York State. For this data, our MSE is 0.8, which is very close to 1.\n",
        "\n",
        "*   It is safe to say that this model is not widely applicable. \n",
        "\n",
        "*   We create a new Extra Regression model and train 38 buildings' data and get an MSE of 0.067."
      ]
    },
    {
      "cell_type": "markdown",
      "metadata": {
        "id": "ILx98gIYFYlM"
      },
      "source": [
        "# SUGGESTION"
      ]
    },
    {
      "cell_type": "markdown",
      "metadata": {
        "id": "LtKEx3RsFY6F"
      },
      "source": [
        "\n",
        "\n",
        "*   Our model is not widely applicable. Next step can be creating a base model with a random sample data from the all data set instead of using one building's data.\n",
        "\n",
        "*   Our models significantly rely on indoor temperature, especialy the latest indoor temperature value most of the times. (We observed this in the previous notebook.)\n",
        "\n",
        "*   From exploratory data analysis, we observed that indoor temperature doesn't change within 5 minutes time frame most of the time. We can change our target from shifted indoor temperature to indoor temperature difference. \n",
        "\n",
        "*   For the indoor temperature difference model, we can eliminate data where there is no change.\n"
      ]
    }
  ]
}